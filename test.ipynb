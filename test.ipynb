{
 "cells": [
  {
   "cell_type": "code",
   "execution_count": 4,
   "metadata": {},
   "outputs": [],
   "source": [
    "import matplotlib.pyplot as plt\n",
    "from wordcloud import WordCloud\n",
    "from bs4 import BeautifulSoup\n",
    "import requests\n",
    "import MeCab as mc\n",
    "import sys"
   ]
  },
  {
   "cell_type": "code",
   "execution_count": 5,
   "metadata": {},
   "outputs": [],
   "source": [
    "def mecab_analysis(text):\n",
    "    \n",
    "    t = mc.Tagger(\"-Ochasen\")\n",
    "    enc_text = text\n",
    "    #print(enc_text)\n",
    "    node = t.parseToNode(enc_text) \n",
    "\n",
    "\n",
    "    output = []\n",
    "    while(node):\n",
    "        if node.surface != \"\":  # ヘッダとフッタを除外\n",
    "            word_type = node.feature.split(\",\")[0]\n",
    "            if word_type in [\"形容詞\", \"動詞\",\"名詞\", \"副詞\"]:\n",
    "                output.append(node.surface)\n",
    "        node = node.next\n",
    "        if node is None:\n",
    "            break\n",
    "    #print(output)\n",
    "    return output"
   ]
  },
  {
   "cell_type": "code",
   "execution_count": 7,
   "metadata": {},
   "outputs": [
    {
     "data": {
      "text/plain": [
       "['伝統',\n",
       " '的',\n",
       " '考え方',\n",
       " '文',\n",
       " '構成',\n",
       " 'する',\n",
       " 'もっとも',\n",
       " '基本',\n",
       " '的',\n",
       " '単位',\n",
       " '語',\n",
       " '単語',\n",
       " '語彙',\n",
       " '主義',\n",
       " '文',\n",
       " '複数',\n",
       " '語',\n",
       " '一定',\n",
       " '手順',\n",
       " '組み合わせ',\n",
       " '行く',\n",
       " 'こと',\n",
       " '形成',\n",
       " 'さ',\n",
       " 'れる',\n",
       " '文',\n",
       " '形成',\n",
       " 'する',\n",
       " '上',\n",
       " '語',\n",
       " 'まとまり',\n",
       " '句',\n",
       " '構成',\n",
       " '素',\n",
       " 'いう']"
      ]
     },
     "execution_count": 7,
     "metadata": {},
     "output_type": "execute_result"
    }
   ],
   "source": [
    "mecab_analysis(\"伝統的な考え方では、文を構成するもっとも基本的な単位は語（単語）であり（→語彙主義）、文は複数の語を一定の手順で組み合わせて行くことによって形成される。文を形成する上での語のまとまりを句または構成素という。\")"
   ]
  },
  {
   "cell_type": "code",
   "execution_count": null,
   "metadata": {},
   "outputs": [],
   "source": []
  }
 ],
 "metadata": {
  "kernelspec": {
   "display_name": "Python 3",
   "language": "python",
   "name": "python3"
  },
  "language_info": {
   "codemirror_mode": {
    "name": "ipython",
    "version": 3
   },
   "file_extension": ".py",
   "mimetype": "text/x-python",
   "name": "python",
   "nbconvert_exporter": "python",
   "pygments_lexer": "ipython3",
   "version": "3.7.3"
  }
 },
 "nbformat": 4,
 "nbformat_minor": 2
}
